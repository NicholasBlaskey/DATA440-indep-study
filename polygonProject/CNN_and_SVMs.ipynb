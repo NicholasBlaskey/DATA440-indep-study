{
  "nbformat": 4,
  "nbformat_minor": 0,
  "metadata": {
    "colab": {
      "name": "CNN and SVMs.ipynb",
      "provenance": []
    },
    "kernelspec": {
      "name": "python3",
      "display_name": "Python 3"
    }
  },
  "cells": [
    {
      "cell_type": "markdown",
      "metadata": {
        "id": "b1ObXFAHARcs",
        "colab_type": "text"
      },
      "source": [
        "<h1>Create dataset</h1>\n",
        "\n",
        "Images and code is stored here\n",
        "\n",
        "https://github.com/NicholasBlaskey/DATA440-indep-study/tree/master/polygonProject\n",
        "\n",
        "Images are generated using OpenGL by taking a triangle or a square then applying random translations to them. These translations are a mix of rotations, scaling, and transformations (sliding). The images are then saved in either the triangle directory or the square directory depending on the starting image. The images are 32 by 32 pixels large. It took 3 minutes to generate the 10,000 images but this could easily largely be optimized in many ways.\n",
        "\n",
        "The images are each in their own file saved in a simple format of a string of 1024 ones and zeros. The one signifies a color of white while 0 is one of black. It acts as flattened array of a two-dimesonal pixel matrix. \n",
        "\n",
        "The triangle directory files are numbered 0-number of images where all values are even. The square directory files are numbered 1-number of images where all values are odd."
      ]
    },
    {
      "cell_type": "markdown",
      "metadata": {
        "id": "njjk4G-PH4PW",
        "colab_type": "text"
      },
      "source": [
        "<h1>Load a couple images as a sanity check</h1>\n"
      ]
    },
    {
      "cell_type": "code",
      "metadata": {
        "id": "sNd35xdqH1Ks",
        "colab_type": "code",
        "colab": {}
      },
      "source": [
        "import pandas as pd\n",
        "import requests\n",
        "import matplotlib.pyplot as plt\n",
        "import numpy as np\n",
        "\n",
        "image_size = 32\n",
        "num_images = 10000"
      ],
      "execution_count": null,
      "outputs": []
    },
    {
      "cell_type": "code",
      "metadata": {
        "id": "li1iYZqmIDEb",
        "colab_type": "code",
        "colab": {}
      },
      "source": [
        "def read_file(file_url):\n",
        "  response = requests.get(file_url)\n",
        "  return response.text\n",
        "\n",
        "filePath = \"https://raw.githubusercontent.com/NicholasBlaskey/DATA440-indep-study/master/polygonProject\""
      ],
      "execution_count": null,
      "outputs": []
    },
    {
      "cell_type": "code",
      "metadata": {
        "id": "xvpyKI_mKYC7",
        "colab_type": "code",
        "colab": {
          "base_uri": "https://localhost:8080/",
          "height": 283
        },
        "outputId": "eac8830f-842c-4d96-fa63-e035bd906900"
      },
      "source": [
        "def process_image(image):\n",
        "  image = list(image)\n",
        "  for i in range(len(image)):\n",
        "    image[i] = float(image[i])\n",
        "  return np.array(image).reshape(image_size, image_size)\n",
        "\n",
        "example_image = process_image(read_file(filePath + \"/triangle/2\"))\n",
        "plt.imshow(example_image)"
      ],
      "execution_count": null,
      "outputs": [
        {
          "output_type": "execute_result",
          "data": {
            "text/plain": [
              "<matplotlib.image.AxesImage at 0x7f5d9edec240>"
            ]
          },
          "metadata": {
            "tags": []
          },
          "execution_count": 3
        },
        {
          "output_type": "display_data",
          "data": {
            "image/png": "[encoded data removed]",
            "text/plain": [
              "<Figure size 432x288 with 1 Axes>"
            ]
          },
          "metadata": {
            "tags": [],
            "needs_background": "light"
          }
        }
      ]
    },
    {
      "cell_type": "code",
      "metadata": {
        "id": "n2or52DONDsg",
        "colab_type": "code",
        "colab": {
          "base_uri": "https://localhost:8080/",
          "height": 283
        },
        "outputId": "b00fbe94-cca7-40c7-fb68-1ed2f8ff71c7"
      },
      "source": [
        "plt.imshow(process_image(read_file(filePath + \"/square/1\")))"
      ],
      "execution_count": null,
      "outputs": [
        {
          "output_type": "execute_result",
          "data": {
            "text/plain": [
              "<matplotlib.image.AxesImage at 0x7f5d9e8c0e48>"
            ]
          },
          "metadata": {
            "tags": []
          },
          "execution_count": 4
        },
        {
          "output_type": "display_data",
          "data": {
            "image/png": "[encoded data removed]",
            "text/plain": [
              "<Figure size 432x288 with 1 Axes>"
            ]
          },
          "metadata": {
            "tags": [],
            "needs_background": "light"
          }
        }
      ]
    },
    {
      "cell_type": "markdown",
      "metadata": {
        "id": "skCH3NeiCJCi",
        "colab_type": "text"
      },
      "source": [
        "<h1>Load all the images<h1>"
      ]
    },
    {
      "cell_type": "code",
      "metadata": {
        "id": "AuAXFB22G1os",
        "colab_type": "code",
        "colab": {
          "base_uri": "https://localhost:8080/",
          "height": 52
        },
        "outputId": "5e397891-f1d6-4520-ab2e-af2a2060751b"
      },
      "source": [
        "!unzip data.zip"
      ],
      "execution_count": null,
      "outputs": [
        {
          "output_type": "stream",
          "text": [
            "Archive:  data.zip\n",
            "replace data/square/1? [y]es, [n]o, [A]ll, [N]one, [r]ename: N\n"
          ],
          "name": "stdout"
        }
      ]
    },
    {
      "cell_type": "code",
      "metadata": {
        "id": "1dGzWX6LCRqA",
        "colab_type": "code",
        "colab": {
          "base_uri": "https://localhost:8080/",
          "height": 108
        },
        "outputId": "d26fabdb-c425-43f1-931b-366d5ff2f6ab"
      },
      "source": [
        "import random\n",
        "random.seed(42)\n",
        "\n",
        "def read_file_drive(path):\n",
        "  f = open(path, \"r\")\n",
        "  out = f.read()\n",
        "  f.close()\n",
        "  return out\n",
        "\n",
        "read_file_drive(\"data/square/9\")"
      ],
      "execution_count": null,
      "outputs": [
        {
          "output_type": "execute_result",
          "data": {
            "application/vnd.google.colaboratory.intrinsic+json": {
              "type": "string"
            },
            "text/plain": [
              "'0000000000000000000000000000000000000000000000000000000000000000000000000000000000000000000000000000000000000000000000000000000000000000000000000000000000000000000000000000000000000000000000000000000000000000000000000000000000000000000000000000000000000000000000000000000000000000000000000000000000000000000000000000000000000000000000000000000000000000000000000001111111111110000000000000000000011111111111100000000000000000000111111111111000000000000000000001111111111110000000000000000000011111111111100000000000000000000111111111111000000000000000000001111111111110000000000000000000011111111111100000000000000000000111111111111000000000000000000001111111111110000000000000000000000000000000000000000000000000000000000000000000000000000000000000000000000000000000000000000000000000000000000000000000000000000000000000000000000000000000000000000000000000000000000000000000000000000000000000000000000000000000000000000000000000000000000000000000000000000000000000000000000000000000000000000000000000000000000000000000000000'"
            ]
          },
          "metadata": {
            "tags": []
          },
          "execution_count": 6
        }
      ]
    },
    {
      "cell_type": "code",
      "metadata": {
        "id": "8UVPUbg6CcmN",
        "colab_type": "code",
        "colab": {
          "base_uri": "https://localhost:8080/",
          "height": 52
        },
        "outputId": "ff84ad29-bfc9-4b09-a18e-b6c069217070"
      },
      "source": [
        "X = []\n",
        "y = []\n",
        "for i in range(num_images):\n",
        "  curFilePath = \"data\" \n",
        "  if i % 2 == 0:\n",
        "    curFilePath += \"/triangle/\" + str(i) \n",
        "    y.append(0)\n",
        "  else:\n",
        "    curFilePath += \"/square/\" + str(i)\n",
        "    y.append(1)\n",
        "  \n",
        "  try:\n",
        "    X.append(process_image(read_file_drive(curFilePath)))\n",
        "  except:\n",
        "    y.pop()\n",
        "  \n",
        "print(len(X))\n",
        "print(len(y))"
      ],
      "execution_count": null,
      "outputs": [
        {
          "output_type": "stream",
          "text": [
            "9038\n",
            "9038\n"
          ],
          "name": "stdout"
        }
      ]
    },
    {
      "cell_type": "markdown",
      "metadata": {
        "id": "SUjNGj00IArA",
        "colab_type": "text"
      },
      "source": [
        "<h1>Another sanity check</h1>"
      ]
    },
    {
      "cell_type": "code",
      "metadata": {
        "id": "QUa2YTmiDQCI",
        "colab_type": "code",
        "colab": {
          "base_uri": "https://localhost:8080/",
          "height": 283
        },
        "outputId": "50416b7d-da92-45e7-9371-2e0ebeee44d4"
      },
      "source": [
        "plt.imshow(X[1291])\n",
        "print(y[1291])"
      ],
      "execution_count": null,
      "outputs": [
        {
          "output_type": "stream",
          "text": [
            "0\n"
          ],
          "name": "stdout"
        },
        {
          "output_type": "display_data",
          "data": {
            "image/png": "[encoded data removed]",
            "text/plain": [
              "<Figure size 432x288 with 1 Axes>"
            ]
          },
          "metadata": {
            "tags": [],
            "needs_background": "light"
          }
        }
      ]
    },
    {
      "cell_type": "code",
      "metadata": {
        "id": "-IIcnfy-IQKW",
        "colab_type": "code",
        "colab": {
          "base_uri": "https://localhost:8080/",
          "height": 283
        },
        "outputId": "cbb2dda6-5045-4e9b-e5d5-7aa1d0364b01"
      },
      "source": [
        "plt.imshow(X[1290])\n",
        "print(y[1290])"
      ],
      "execution_count": null,
      "outputs": [
        {
          "output_type": "stream",
          "text": [
            "1\n"
          ],
          "name": "stdout"
        },
        {
          "output_type": "display_data",
          "data": {
            "image/png": "[encoded data removed]",
            "text/plain": [
              "<Figure size 432x288 with 1 Axes>"
            ]
          },
          "metadata": {
            "tags": [],
            "needs_background": "light"
          }
        }
      ]
    },
    {
      "cell_type": "markdown",
      "metadata": {
        "id": "1baex_raIgYT",
        "colab_type": "text"
      },
      "source": [
        "<h1>Now do preprocessing <h1>"
      ]
    },
    {
      "cell_type": "code",
      "metadata": {
        "id": "9ofUGo-0ImTK",
        "colab_type": "code",
        "colab": {
          "base_uri": "https://localhost:8080/",
          "height": 104
        },
        "outputId": "8f2aa971-72eb-4b4a-ea10-23e7bceee43e"
      },
      "source": [
        "from sklearn.model_selection import train_test_split\n",
        "\n",
        "flattened_X = []\n",
        "for i in range(len(X)):\n",
        "  flattened_X.append(X[i].reshape(image_size * image_size))\n",
        "\n",
        "X_train, X_test, y_train, y_test = train_test_split(flattened_X, y, test_size = 0.20, random_state = 42)\n",
        "\n",
        "print(len(X_train))\n",
        "print(len(y_train))\n",
        "print()\n",
        "print(len(X_test))\n",
        "print(len(y_test))"
      ],
      "execution_count": null,
      "outputs": [
        {
          "output_type": "stream",
          "text": [
            "7230\n",
            "7230\n",
            "\n",
            "1808\n",
            "1808\n"
          ],
          "name": "stdout"
        }
      ]
    },
    {
      "cell_type": "markdown",
      "metadata": {
        "id": "vH4ap6pIJ3tP",
        "colab_type": "text"
      },
      "source": [
        "<h1>Let's see how well a linear SVM can handle this dataset</h1>"
      ]
    },
    {
      "cell_type": "code",
      "metadata": {
        "id": "cdPuDKW5J8Aw",
        "colab_type": "code",
        "colab": {
          "base_uri": "https://localhost:8080/",
          "height": 86
        },
        "outputId": "31ec3c87-6c38-41b3-965d-360fb7319be6"
      },
      "source": [
        "from sklearn.svm import LinearSVC\n",
        "\n",
        "def scoreModel(model, name):\n",
        "  print(name, \"scored \", model.score(X_train, y_train), \" for train set\")\n",
        "  print(name, \"scored \", model.score(X_test, y_test), \" for test set\")\n",
        "\n",
        "linear = LinearSVC(loss = \"hinge\")\n",
        "linear.fit(X_train, y_train)\n",
        "scoreModel(linear, \"linear SVM\")"
      ],
      "execution_count": null,
      "outputs": [
        {
          "output_type": "stream",
          "text": [
            "linear SVM scored  0.7738589211618258  for train set\n",
            "linear SVM scored  0.6648230088495575  for test set\n"
          ],
          "name": "stdout"
        },
        {
          "output_type": "stream",
          "text": [
            "/usr/local/lib/python3.6/dist-packages/sklearn/svm/_base.py:947: ConvergenceWarning: Liblinear failed to converge, increase the number of iterations.\n",
            "  \"the number of iterations.\", ConvergenceWarning)\n"
          ],
          "name": "stderr"
        }
      ]
    },
    {
      "cell_type": "markdown",
      "metadata": {
        "id": "kYSA4xO-LWvA",
        "colab_type": "text"
      },
      "source": [
        "<h1>Let's see now for different degrees of polynomial SVM</h1>\n"
      ]
    },
    {
      "cell_type": "code",
      "metadata": {
        "id": "0uyILURMLmJX",
        "colab_type": "code",
        "colab": {}
      },
      "source": [
        "from sklearn.svm import SVC"
      ],
      "execution_count": null,
      "outputs": []
    },
    {
      "cell_type": "code",
      "metadata": {
        "id": "9NXwGvzQLJle",
        "colab_type": "code",
        "colab": {
          "base_uri": "https://localhost:8080/",
          "height": 69
        },
        "outputId": "ba53a139-a5c3-406b-c3f6-18886799e7f9"
      },
      "source": [
        "degree = []\n",
        "train_scores = []\n",
        "test_scores = []\n",
        "for i in range(2, 5):\n",
        "  print(i)\n",
        "  svm = SVC(kernel=\"poly\", degree = i)\n",
        "  svm.fit(X_train, y_train)\n",
        "  \n",
        "  degree.append(i)\n",
        "  train_scores.append(svm.score(X_train, y_train))\n",
        "  test_scores.append(svm.score(X_test, y_test))"
      ],
      "execution_count": null,
      "outputs": [
        {
          "output_type": "stream",
          "text": [
            "2\n",
            "3\n",
            "4\n"
          ],
          "name": "stdout"
        }
      ]
    },
    {
      "cell_type": "code",
      "metadata": {
        "id": "0VRQ6wWrL697",
        "colab_type": "code",
        "colab": {}
      },
      "source": [
        "import matplotlib.pyplot as plt"
      ],
      "execution_count": null,
      "outputs": []
    },
    {
      "cell_type": "code",
      "metadata": {
        "id": "HMN4CQ1jL75o",
        "colab_type": "code",
        "colab": {
          "base_uri": "https://localhost:8080/",
          "height": 282
        },
        "outputId": "416babd1-b11c-48e3-b2ba-ae6d97b3b396"
      },
      "source": [
        "plt.plot(degree, train_scores, label = \"train\")\n",
        "plt.plot(degree, test_scores, label = \"test\")\n",
        "plt.legend()"
      ],
      "execution_count": null,
      "outputs": [
        {
          "output_type": "execute_result",
          "data": {
            "text/plain": [
              "<matplotlib.legend.Legend at 0x7f5d9e1014a8>"
            ]
          },
          "metadata": {
            "tags": []
          },
          "execution_count": 19
        },
        {
          "output_type": "display_data",
          "data": {
            "image/png": "[encoded data removed]",
            "text/plain": [
              "<Figure size 432x288 with 1 Axes>"
            ]
          },
          "metadata": {
            "tags": [],
            "needs_background": "light"
          }
        }
      ]
    },
    {
      "cell_type": "markdown",
      "metadata": {
        "id": "kOld8kxyNwAL",
        "colab_type": "text"
      },
      "source": [
        "<h1>Let's see now for gaussian kernel</h1>"
      ]
    },
    {
      "cell_type": "code",
      "metadata": {
        "id": "LmJt0sfPNzvP",
        "colab_type": "code",
        "colab": {
          "base_uri": "https://localhost:8080/",
          "height": 202
        },
        "outputId": "f3e0df16-4cfe-482e-8742-d2dec3fb59f0"
      },
      "source": [
        "gaussRBF = SVC(kernel=\"rbf\", gamma=5)\n",
        "gaussRBF.fit(X_train, y_train)"
      ],
      "execution_count": null,
      "outputs": [
        {
          "output_type": "error",
          "ename": "NameError",
          "evalue": "ignored",
          "traceback": [
            "\u001b[0;31m---------------------------------------------------------------------------\u001b[0m",
            "\u001b[0;31mNameError\u001b[0m                                 Traceback (most recent call last)",
            "\u001b[0;32m<ipython-input-15-6af4b6d2b2bb>\u001b[0m in \u001b[0;36m<module>\u001b[0;34m()\u001b[0m\n\u001b[1;32m      1\u001b[0m \u001b[0mgaussRBF\u001b[0m \u001b[0;34m=\u001b[0m \u001b[0mSVC\u001b[0m\u001b[0;34m(\u001b[0m\u001b[0mkernel\u001b[0m\u001b[0;34m=\u001b[0m\u001b[0;34m\"rbf\"\u001b[0m\u001b[0;34m,\u001b[0m \u001b[0mgamma\u001b[0m\u001b[0;34m=\u001b[0m\u001b[0;36m5\u001b[0m\u001b[0;34m)\u001b[0m\u001b[0;34m\u001b[0m\u001b[0;34m\u001b[0m\u001b[0m\n\u001b[1;32m      2\u001b[0m \u001b[0mgaussRBF\u001b[0m\u001b[0;34m.\u001b[0m\u001b[0mfit\u001b[0m\u001b[0;34m(\u001b[0m\u001b[0mX_train\u001b[0m\u001b[0;34m,\u001b[0m \u001b[0my_train\u001b[0m\u001b[0;34m)\u001b[0m\u001b[0;34m\u001b[0m\u001b[0;34m\u001b[0m\u001b[0m\n\u001b[0;32m----> 3\u001b[0;31m \u001b[0mscoreModel\u001b[0m\u001b[0;34m(\u001b[0m\u001b[0mguassRBF\u001b[0m\u001b[0;34m,\u001b[0m \u001b[0;34m\"Gauss rbf kernel\"\u001b[0m\u001b[0;34m)\u001b[0m\u001b[0;34m\u001b[0m\u001b[0;34m\u001b[0m\u001b[0m\n\u001b[0m",
            "\u001b[0;31mNameError\u001b[0m: name 'guassRBF' is not defined"
          ]
        }
      ]
    },
    {
      "cell_type": "code",
      "metadata": {
        "id": "-A_Oe_pvOH9O",
        "colab_type": "code",
        "colab": {
          "base_uri": "https://localhost:8080/",
          "height": 52
        },
        "outputId": "a45309a4-d6cf-42a8-d1eb-e8a58f2c0b95"
      },
      "source": [
        "scoreModel(gaussRBF, \"Gauss rbf kernel\")"
      ],
      "execution_count": null,
      "outputs": [
        {
          "output_type": "stream",
          "text": [
            "Gauss rbf kernel scored  1.0  for train set\n",
            "Gauss rbf kernel scored  0.5530973451327433  for test set\n"
          ],
          "name": "stdout"
        }
      ]
    },
    {
      "cell_type": "markdown",
      "metadata": {
        "id": "cG4Gy564OMzM",
        "colab_type": "text"
      },
      "source": [
        "<h1>Let's now train a CNN network</h1>"
      ]
    },
    {
      "cell_type": "code",
      "metadata": {
        "id": "DBrnXpukON7K",
        "colab_type": "code",
        "colab": {}
      },
      "source": [
        "import tensorflow as tf\n",
        "from keras.models import Sequential\n",
        "from keras.layers import Conv2D, MaxPooling2D\n",
        "from keras.layers import Activation, Dropout, Flatten, Dense\n",
        "\n",
        "\n",
        "#from tensorflow.keras import datasets, layers, models, optimizers\n",
        "from keras.utils import to_categorical"
      ],
      "execution_count": null,
      "outputs": []
    },
    {
      "cell_type": "code",
      "metadata": {
        "id": "wx-FDa4dOZ8F",
        "colab_type": "code",
        "colab": {
          "base_uri": "https://localhost:8080/",
          "height": 1000
        },
        "outputId": "8763b05b-a450-4e17-ce1c-ef68e546fc53"
      },
      "source": [
        "# taken from https://blog.keras.io/building-powerful-image-classification-models-using-very-little-data.html\n",
        "model = Sequential()\n",
        "model.add(Conv2D(32, (3, 3), input_shape=(32, 32, 1)))\n",
        "model.add(Activation('relu'))\n",
        "model.add(MaxPooling2D(pool_size=(2, 2)))\n",
        "model.add(Conv2D(32, (3, 3)))\n",
        "model.add(Activation('relu'))\n",
        "model.add(MaxPooling2D(pool_size=(2, 2)))\n",
        "model.add(Conv2D(64, (3, 3)))\n",
        "model.add(Activation('relu'))\n",
        "model.add(MaxPooling2D(pool_size=(2, 2)))\n",
        "model.add(Flatten())  # this converts our 3D feature maps to 1D feature vectors\n",
        "model.add(Dense(64))\n",
        "model.add(Activation('relu'))\n",
        "model.add(Dropout(0.5))\n",
        "model.add(Dense(1))\n",
        "model.add(Activation('sigmoid'))\n",
        "\n",
        "model.compile(loss='categorical_crossentropy', optimizer=optimizers.RMSprop(lr=0.001), metrics=['accuracy'])\n",
        "\n",
        "X = np.array(X).reshape(len(X), image_size, image_size, 1)\n",
        "y = np.array(y)\n",
        "X_train, X_test, y_train, y_test = train_test_split(X, y, test_size = 0.20, random_state = 42)\n",
        "\n",
        "\n",
        "print(X_train.shape)\n",
        "print(y_train.shape)\n",
        "\n",
        "model.compile(loss='binary_crossentropy',\n",
        "              optimizer='rmsprop',\n",
        "              metrics=['accuracy'])\n",
        "\n",
        "history = model.fit(X_train, y_train, epochs=30,\n",
        "                    validation_data=(X_test, y_test))"
      ],
      "execution_count": null,
      "outputs": [
        {
          "output_type": "stream",
          "text": [
            "(7230, 32, 32, 1)\n",
            "(7230,)\n",
            "Epoch 1/30\n",
            "226/226 [==============================] - 7s 32ms/step - loss: 0.5954 - accuracy: 0.6609 - val_loss: 0.4527 - val_accuracy: 0.8302\n",
            "Epoch 2/30\n",
            "226/226 [==============================] - 7s 32ms/step - loss: 0.3639 - accuracy: 0.8420 - val_loss: 0.3212 - val_accuracy: 0.8374\n",
            "Epoch 3/30\n",
            "226/226 [==============================] - 7s 32ms/step - loss: 0.1891 - accuracy: 0.9284 - val_loss: 0.1228 - val_accuracy: 0.9469\n",
            "Epoch 4/30\n",
            "226/226 [==============================] - 7s 32ms/step - loss: 0.0942 - accuracy: 0.9686 - val_loss: 0.1609 - val_accuracy: 0.9298\n",
            "Epoch 5/30\n",
            "226/226 [==============================] - 7s 32ms/step - loss: 0.0533 - accuracy: 0.9834 - val_loss: 0.0721 - val_accuracy: 0.9751\n",
            "Epoch 6/30\n",
            "226/226 [==============================] - 7s 32ms/step - loss: 0.0347 - accuracy: 0.9891 - val_loss: 0.0249 - val_accuracy: 0.9906\n",
            "Epoch 7/30\n",
            "226/226 [==============================] - 7s 31ms/step - loss: 0.0222 - accuracy: 0.9936 - val_loss: 0.0345 - val_accuracy: 0.9873\n",
            "Epoch 8/30\n",
            "226/226 [==============================] - 7s 32ms/step - loss: 0.0185 - accuracy: 0.9947 - val_loss: 0.0459 - val_accuracy: 0.9834\n",
            "Epoch 9/30\n",
            "226/226 [==============================] - 7s 32ms/step - loss: 0.0146 - accuracy: 0.9957 - val_loss: 0.0178 - val_accuracy: 0.9928\n",
            "Epoch 10/30\n",
            "226/226 [==============================] - 7s 32ms/step - loss: 0.0113 - accuracy: 0.9964 - val_loss: 0.0347 - val_accuracy: 0.9878\n",
            "Epoch 11/30\n",
            "226/226 [==============================] - 7s 32ms/step - loss: 0.0095 - accuracy: 0.9968 - val_loss: 0.0204 - val_accuracy: 0.9934\n",
            "Epoch 12/30\n",
            "226/226 [==============================] - 7s 32ms/step - loss: 0.0072 - accuracy: 0.9974 - val_loss: 0.0193 - val_accuracy: 0.9950\n",
            "Epoch 13/30\n",
            "226/226 [==============================] - 7s 31ms/step - loss: 0.0102 - accuracy: 0.9975 - val_loss: 0.0201 - val_accuracy: 0.9906\n",
            "Epoch 14/30\n",
            "226/226 [==============================] - 7s 32ms/step - loss: 0.0079 - accuracy: 0.9968 - val_loss: 0.0274 - val_accuracy: 0.9906\n",
            "Epoch 15/30\n",
            "226/226 [==============================] - 7s 32ms/step - loss: 0.0046 - accuracy: 0.9981 - val_loss: 0.0116 - val_accuracy: 0.9972\n",
            "Epoch 16/30\n",
            "226/226 [==============================] - 7s 32ms/step - loss: 0.0025 - accuracy: 0.9990 - val_loss: 0.0487 - val_accuracy: 0.9878\n",
            "Epoch 17/30\n",
            "226/226 [==============================] - 7s 32ms/step - loss: 0.0028 - accuracy: 0.9990 - val_loss: 0.1425 - val_accuracy: 0.9685\n",
            "Epoch 18/30\n",
            "226/226 [==============================] - 7s 32ms/step - loss: 0.0030 - accuracy: 0.9986 - val_loss: 0.0339 - val_accuracy: 0.9900\n",
            "Epoch 19/30\n",
            "226/226 [==============================] - 7s 31ms/step - loss: 0.0033 - accuracy: 0.9993 - val_loss: 0.0187 - val_accuracy: 0.9967\n",
            "Epoch 20/30\n",
            "226/226 [==============================] - 7s 31ms/step - loss: 0.0023 - accuracy: 0.9992 - val_loss: 0.0126 - val_accuracy: 0.9961\n",
            "Epoch 21/30\n",
            "226/226 [==============================] - 7s 32ms/step - loss: 0.0044 - accuracy: 0.9986 - val_loss: 0.0096 - val_accuracy: 0.9972\n",
            "Epoch 22/30\n",
            "226/226 [==============================] - 7s 32ms/step - loss: 0.0020 - accuracy: 0.9992 - val_loss: 0.0086 - val_accuracy: 0.9967\n",
            "Epoch 23/30\n",
            "226/226 [==============================] - 7s 32ms/step - loss: 0.0048 - accuracy: 0.9986 - val_loss: 0.0839 - val_accuracy: 0.9845\n",
            "Epoch 24/30\n",
            "226/226 [==============================] - 7s 32ms/step - loss: 0.0017 - accuracy: 0.9996 - val_loss: 0.0112 - val_accuracy: 0.9967\n",
            "Epoch 25/30\n",
            "226/226 [==============================] - 7s 31ms/step - loss: 0.0016 - accuracy: 0.9997 - val_loss: 0.0193 - val_accuracy: 0.9950\n",
            "Epoch 26/30\n",
            "226/226 [==============================] - 7s 31ms/step - loss: 0.0031 - accuracy: 0.9997 - val_loss: 0.0249 - val_accuracy: 0.9939\n",
            "Epoch 27/30\n",
            "226/226 [==============================] - 7s 31ms/step - loss: 0.0011 - accuracy: 0.9992 - val_loss: 0.0106 - val_accuracy: 0.9956\n",
            "Epoch 28/30\n",
            "226/226 [==============================] - 7s 31ms/step - loss: 0.0023 - accuracy: 0.9999 - val_loss: 0.0164 - val_accuracy: 0.9950\n",
            "Epoch 29/30\n",
            "226/226 [==============================] - 7s 31ms/step - loss: 0.0029 - accuracy: 0.9994 - val_loss: 0.0207 - val_accuracy: 0.9939\n",
            "Epoch 30/30\n",
            "226/226 [==============================] - 7s 31ms/step - loss: 0.0027 - accuracy: 0.9996 - val_loss: 0.0126 - val_accuracy: 0.9961\n"
          ],
          "name": "stdout"
        }
      ]
    },
    {
      "cell_type": "code",
      "metadata": {
        "id": "-Xd6SfT_Qbfc",
        "colab_type": "code",
        "colab": {
          "base_uri": "https://localhost:8080/",
          "height": 296
        },
        "outputId": "a7ad187b-e311-41b9-fb7e-a1ccefc25c89"
      },
      "source": [
        "plt.plot(history.history[\"accuracy\"])\n",
        "plt.plot(history.history['val_accuracy'], label = 'val_accuracy')\n",
        "plt.xlabel('Epoch')\n",
        "plt.ylabel('Accuracy')\n",
        "plt.ylim([0.70, 1.01])\n",
        "plt.legend(loc='lower right')\n"
      ],
      "execution_count": null,
      "outputs": [
        {
          "output_type": "execute_result",
          "data": {
            "text/plain": [
              "<matplotlib.legend.Legend at 0x7f5d5586ea58>"
            ]
          },
          "metadata": {
            "tags": []
          },
          "execution_count": 115
        },
        {
          "output_type": "display_data",
          "data": {
            "image/png": "[encoded data removed]",
            "text/plain": [
              "<Figure size 432x288 with 1 Axes>"
            ]
          },
          "metadata": {
            "tags": [],
            "needs_background": "light"
          }
        }
      ]
    }
  ]
}